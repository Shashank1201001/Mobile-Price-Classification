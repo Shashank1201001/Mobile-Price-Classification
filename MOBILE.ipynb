{
 "cells": [
  {
   "cell_type": "code",
   "execution_count": 1,
   "metadata": {},
   "outputs": [],
   "source": [
    "import pandas as pd\n",
    "import numpy as np\n",
    "import warnings\n",
    "warnings.filterwarnings('ignore')\n"
   ]
  },
  {
   "cell_type": "code",
   "execution_count": 2,
   "metadata": {},
   "outputs": [],
   "source": [
    "import pandas as pd"
   ]
  },
  {
   "cell_type": "code",
   "execution_count": 3,
   "metadata": {},
   "outputs": [],
   "source": [
    "m=pd.read_csv(r'C:\\Users\\Lenovo\\Downloads\\Mobile_data.csv',header=0)  # IT IS USED TO ACCESS THE FILE"
   ]
  },
  {
   "cell_type": "code",
   "execution_count": 4,
   "metadata": {},
   "outputs": [
    {
     "data": {
      "text/html": [
       "<div>\n",
       "<style scoped>\n",
       "    .dataframe tbody tr th:only-of-type {\n",
       "        vertical-align: middle;\n",
       "    }\n",
       "\n",
       "    .dataframe tbody tr th {\n",
       "        vertical-align: top;\n",
       "    }\n",
       "\n",
       "    .dataframe thead th {\n",
       "        text-align: right;\n",
       "    }\n",
       "</style>\n",
       "<table border=\"1\" class=\"dataframe\">\n",
       "  <thead>\n",
       "    <tr style=\"text-align: right;\">\n",
       "      <th></th>\n",
       "      <th>battery_power</th>\n",
       "      <th>clock_speed</th>\n",
       "      <th>fc</th>\n",
       "      <th>int_memory</th>\n",
       "      <th>m_dep</th>\n",
       "      <th>mobile_wt</th>\n",
       "      <th>n_cores</th>\n",
       "      <th>pc</th>\n",
       "      <th>px_height</th>\n",
       "      <th>px_width</th>\n",
       "      <th>ram</th>\n",
       "      <th>sc_h</th>\n",
       "      <th>sc_w</th>\n",
       "      <th>talk_time</th>\n",
       "      <th>price_range</th>\n",
       "    </tr>\n",
       "  </thead>\n",
       "  <tbody>\n",
       "    <tr>\n",
       "      <th>0</th>\n",
       "      <td>842</td>\n",
       "      <td>2.2</td>\n",
       "      <td>1</td>\n",
       "      <td>7</td>\n",
       "      <td>0.6</td>\n",
       "      <td>188</td>\n",
       "      <td>2</td>\n",
       "      <td>2</td>\n",
       "      <td>20</td>\n",
       "      <td>756</td>\n",
       "      <td>2549</td>\n",
       "      <td>9</td>\n",
       "      <td>7</td>\n",
       "      <td>19</td>\n",
       "      <td>1</td>\n",
       "    </tr>\n",
       "    <tr>\n",
       "      <th>1</th>\n",
       "      <td>1021</td>\n",
       "      <td>0.5</td>\n",
       "      <td>0</td>\n",
       "      <td>53</td>\n",
       "      <td>0.7</td>\n",
       "      <td>136</td>\n",
       "      <td>3</td>\n",
       "      <td>6</td>\n",
       "      <td>905</td>\n",
       "      <td>1988</td>\n",
       "      <td>2631</td>\n",
       "      <td>17</td>\n",
       "      <td>3</td>\n",
       "      <td>7</td>\n",
       "      <td>2</td>\n",
       "    </tr>\n",
       "    <tr>\n",
       "      <th>2</th>\n",
       "      <td>563</td>\n",
       "      <td>0.5</td>\n",
       "      <td>2</td>\n",
       "      <td>41</td>\n",
       "      <td>0.9</td>\n",
       "      <td>145</td>\n",
       "      <td>5</td>\n",
       "      <td>6</td>\n",
       "      <td>1263</td>\n",
       "      <td>1716</td>\n",
       "      <td>2603</td>\n",
       "      <td>11</td>\n",
       "      <td>2</td>\n",
       "      <td>9</td>\n",
       "      <td>2</td>\n",
       "    </tr>\n",
       "    <tr>\n",
       "      <th>3</th>\n",
       "      <td>615</td>\n",
       "      <td>2.5</td>\n",
       "      <td>0</td>\n",
       "      <td>10</td>\n",
       "      <td>0.8</td>\n",
       "      <td>131</td>\n",
       "      <td>6</td>\n",
       "      <td>9</td>\n",
       "      <td>1216</td>\n",
       "      <td>1786</td>\n",
       "      <td>2769</td>\n",
       "      <td>16</td>\n",
       "      <td>8</td>\n",
       "      <td>11</td>\n",
       "      <td>2</td>\n",
       "    </tr>\n",
       "    <tr>\n",
       "      <th>4</th>\n",
       "      <td>1821</td>\n",
       "      <td>1.2</td>\n",
       "      <td>13</td>\n",
       "      <td>44</td>\n",
       "      <td>0.6</td>\n",
       "      <td>141</td>\n",
       "      <td>2</td>\n",
       "      <td>14</td>\n",
       "      <td>1208</td>\n",
       "      <td>1212</td>\n",
       "      <td>1411</td>\n",
       "      <td>8</td>\n",
       "      <td>2</td>\n",
       "      <td>15</td>\n",
       "      <td>1</td>\n",
       "    </tr>\n",
       "  </tbody>\n",
       "</table>\n",
       "</div>"
      ],
      "text/plain": [
       "   battery_power  clock_speed  fc  int_memory  m_dep  mobile_wt  n_cores  pc  \\\n",
       "0            842          2.2   1           7    0.6        188        2   2   \n",
       "1           1021          0.5   0          53    0.7        136        3   6   \n",
       "2            563          0.5   2          41    0.9        145        5   6   \n",
       "3            615          2.5   0          10    0.8        131        6   9   \n",
       "4           1821          1.2  13          44    0.6        141        2  14   \n",
       "\n",
       "   px_height  px_width   ram  sc_h  sc_w  talk_time  price_range  \n",
       "0         20       756  2549     9     7         19            1  \n",
       "1        905      1988  2631    17     3          7            2  \n",
       "2       1263      1716  2603    11     2          9            2  \n",
       "3       1216      1786  2769    16     8         11            2  \n",
       "4       1208      1212  1411     8     2         15            1  "
      ]
     },
     "execution_count": 4,
     "metadata": {},
     "output_type": "execute_result"
    }
   ],
   "source": [
    "m.head()"
   ]
  },
  {
   "cell_type": "code",
   "execution_count": 5,
   "metadata": {},
   "outputs": [
    {
     "data": {
      "text/plain": [
       "(2000, 15)"
      ]
     },
     "execution_count": 5,
     "metadata": {},
     "output_type": "execute_result"
    }
   ],
   "source": [
    "m.shape   # it tells about how many rows and columns are present"
   ]
  },
  {
   "cell_type": "code",
   "execution_count": 6,
   "metadata": {},
   "outputs": [
    {
     "data": {
      "text/html": [
       "<div>\n",
       "<style scoped>\n",
       "    .dataframe tbody tr th:only-of-type {\n",
       "        vertical-align: middle;\n",
       "    }\n",
       "\n",
       "    .dataframe tbody tr th {\n",
       "        vertical-align: top;\n",
       "    }\n",
       "\n",
       "    .dataframe thead th {\n",
       "        text-align: right;\n",
       "    }\n",
       "</style>\n",
       "<table border=\"1\" class=\"dataframe\">\n",
       "  <thead>\n",
       "    <tr style=\"text-align: right;\">\n",
       "      <th></th>\n",
       "      <th>battery_power</th>\n",
       "      <th>clock_speed</th>\n",
       "      <th>fc</th>\n",
       "      <th>int_memory</th>\n",
       "      <th>m_dep</th>\n",
       "      <th>mobile_wt</th>\n",
       "      <th>n_cores</th>\n",
       "      <th>pc</th>\n",
       "      <th>px_height</th>\n",
       "      <th>px_width</th>\n",
       "      <th>ram</th>\n",
       "      <th>sc_h</th>\n",
       "      <th>sc_w</th>\n",
       "      <th>talk_time</th>\n",
       "      <th>price_range</th>\n",
       "    </tr>\n",
       "  </thead>\n",
       "  <tbody>\n",
       "    <tr>\n",
       "      <th>count</th>\n",
       "      <td>2000.000000</td>\n",
       "      <td>2000.000000</td>\n",
       "      <td>2000.000000</td>\n",
       "      <td>2000.000000</td>\n",
       "      <td>2000.000000</td>\n",
       "      <td>2000.000000</td>\n",
       "      <td>2000.000000</td>\n",
       "      <td>2000.000000</td>\n",
       "      <td>2000.000000</td>\n",
       "      <td>2000.000000</td>\n",
       "      <td>2000.000000</td>\n",
       "      <td>2000.000000</td>\n",
       "      <td>2000.000000</td>\n",
       "      <td>2000.000000</td>\n",
       "      <td>2000.000000</td>\n",
       "    </tr>\n",
       "    <tr>\n",
       "      <th>mean</th>\n",
       "      <td>1238.518500</td>\n",
       "      <td>1.522250</td>\n",
       "      <td>4.309500</td>\n",
       "      <td>32.046500</td>\n",
       "      <td>0.501750</td>\n",
       "      <td>140.249000</td>\n",
       "      <td>4.520500</td>\n",
       "      <td>9.916500</td>\n",
       "      <td>645.108000</td>\n",
       "      <td>1251.515500</td>\n",
       "      <td>2124.213000</td>\n",
       "      <td>12.306500</td>\n",
       "      <td>5.767000</td>\n",
       "      <td>11.011000</td>\n",
       "      <td>1.500000</td>\n",
       "    </tr>\n",
       "    <tr>\n",
       "      <th>std</th>\n",
       "      <td>439.418206</td>\n",
       "      <td>0.816004</td>\n",
       "      <td>4.341444</td>\n",
       "      <td>18.145715</td>\n",
       "      <td>0.288416</td>\n",
       "      <td>35.399655</td>\n",
       "      <td>2.287837</td>\n",
       "      <td>6.064315</td>\n",
       "      <td>443.780811</td>\n",
       "      <td>432.199447</td>\n",
       "      <td>1084.732044</td>\n",
       "      <td>4.213245</td>\n",
       "      <td>4.356398</td>\n",
       "      <td>5.463955</td>\n",
       "      <td>1.118314</td>\n",
       "    </tr>\n",
       "    <tr>\n",
       "      <th>min</th>\n",
       "      <td>501.000000</td>\n",
       "      <td>0.500000</td>\n",
       "      <td>0.000000</td>\n",
       "      <td>2.000000</td>\n",
       "      <td>0.100000</td>\n",
       "      <td>80.000000</td>\n",
       "      <td>1.000000</td>\n",
       "      <td>0.000000</td>\n",
       "      <td>0.000000</td>\n",
       "      <td>500.000000</td>\n",
       "      <td>256.000000</td>\n",
       "      <td>5.000000</td>\n",
       "      <td>0.000000</td>\n",
       "      <td>2.000000</td>\n",
       "      <td>0.000000</td>\n",
       "    </tr>\n",
       "    <tr>\n",
       "      <th>25%</th>\n",
       "      <td>851.750000</td>\n",
       "      <td>0.700000</td>\n",
       "      <td>1.000000</td>\n",
       "      <td>16.000000</td>\n",
       "      <td>0.200000</td>\n",
       "      <td>109.000000</td>\n",
       "      <td>3.000000</td>\n",
       "      <td>5.000000</td>\n",
       "      <td>282.750000</td>\n",
       "      <td>874.750000</td>\n",
       "      <td>1207.500000</td>\n",
       "      <td>9.000000</td>\n",
       "      <td>2.000000</td>\n",
       "      <td>6.000000</td>\n",
       "      <td>0.750000</td>\n",
       "    </tr>\n",
       "    <tr>\n",
       "      <th>50%</th>\n",
       "      <td>1226.000000</td>\n",
       "      <td>1.500000</td>\n",
       "      <td>3.000000</td>\n",
       "      <td>32.000000</td>\n",
       "      <td>0.500000</td>\n",
       "      <td>141.000000</td>\n",
       "      <td>4.000000</td>\n",
       "      <td>10.000000</td>\n",
       "      <td>564.000000</td>\n",
       "      <td>1247.000000</td>\n",
       "      <td>2146.500000</td>\n",
       "      <td>12.000000</td>\n",
       "      <td>5.000000</td>\n",
       "      <td>11.000000</td>\n",
       "      <td>1.500000</td>\n",
       "    </tr>\n",
       "    <tr>\n",
       "      <th>75%</th>\n",
       "      <td>1615.250000</td>\n",
       "      <td>2.200000</td>\n",
       "      <td>7.000000</td>\n",
       "      <td>48.000000</td>\n",
       "      <td>0.800000</td>\n",
       "      <td>170.000000</td>\n",
       "      <td>7.000000</td>\n",
       "      <td>15.000000</td>\n",
       "      <td>947.250000</td>\n",
       "      <td>1633.000000</td>\n",
       "      <td>3064.500000</td>\n",
       "      <td>16.000000</td>\n",
       "      <td>9.000000</td>\n",
       "      <td>16.000000</td>\n",
       "      <td>2.250000</td>\n",
       "    </tr>\n",
       "    <tr>\n",
       "      <th>max</th>\n",
       "      <td>1998.000000</td>\n",
       "      <td>3.000000</td>\n",
       "      <td>19.000000</td>\n",
       "      <td>64.000000</td>\n",
       "      <td>1.000000</td>\n",
       "      <td>200.000000</td>\n",
       "      <td>8.000000</td>\n",
       "      <td>20.000000</td>\n",
       "      <td>1960.000000</td>\n",
       "      <td>1998.000000</td>\n",
       "      <td>3998.000000</td>\n",
       "      <td>19.000000</td>\n",
       "      <td>18.000000</td>\n",
       "      <td>20.000000</td>\n",
       "      <td>3.000000</td>\n",
       "    </tr>\n",
       "  </tbody>\n",
       "</table>\n",
       "</div>"
      ],
      "text/plain": [
       "       battery_power  clock_speed           fc   int_memory        m_dep  \\\n",
       "count    2000.000000  2000.000000  2000.000000  2000.000000  2000.000000   \n",
       "mean     1238.518500     1.522250     4.309500    32.046500     0.501750   \n",
       "std       439.418206     0.816004     4.341444    18.145715     0.288416   \n",
       "min       501.000000     0.500000     0.000000     2.000000     0.100000   \n",
       "25%       851.750000     0.700000     1.000000    16.000000     0.200000   \n",
       "50%      1226.000000     1.500000     3.000000    32.000000     0.500000   \n",
       "75%      1615.250000     2.200000     7.000000    48.000000     0.800000   \n",
       "max      1998.000000     3.000000    19.000000    64.000000     1.000000   \n",
       "\n",
       "         mobile_wt      n_cores           pc    px_height     px_width  \\\n",
       "count  2000.000000  2000.000000  2000.000000  2000.000000  2000.000000   \n",
       "mean    140.249000     4.520500     9.916500   645.108000  1251.515500   \n",
       "std      35.399655     2.287837     6.064315   443.780811   432.199447   \n",
       "min      80.000000     1.000000     0.000000     0.000000   500.000000   \n",
       "25%     109.000000     3.000000     5.000000   282.750000   874.750000   \n",
       "50%     141.000000     4.000000    10.000000   564.000000  1247.000000   \n",
       "75%     170.000000     7.000000    15.000000   947.250000  1633.000000   \n",
       "max     200.000000     8.000000    20.000000  1960.000000  1998.000000   \n",
       "\n",
       "               ram         sc_h         sc_w    talk_time  price_range  \n",
       "count  2000.000000  2000.000000  2000.000000  2000.000000  2000.000000  \n",
       "mean   2124.213000    12.306500     5.767000    11.011000     1.500000  \n",
       "std    1084.732044     4.213245     4.356398     5.463955     1.118314  \n",
       "min     256.000000     5.000000     0.000000     2.000000     0.000000  \n",
       "25%    1207.500000     9.000000     2.000000     6.000000     0.750000  \n",
       "50%    2146.500000    12.000000     5.000000    11.000000     1.500000  \n",
       "75%    3064.500000    16.000000     9.000000    16.000000     2.250000  \n",
       "max    3998.000000    19.000000    18.000000    20.000000     3.000000  "
      ]
     },
     "execution_count": 6,
     "metadata": {},
     "output_type": "execute_result"
    }
   ],
   "source": [
    "m.describe()   # describe method tells about the statistics value of the data"
   ]
  },
  {
   "cell_type": "code",
   "execution_count": 7,
   "metadata": {},
   "outputs": [
    {
     "data": {
      "text/plain": [
       "battery_power    0\n",
       "clock_speed      0\n",
       "fc               0\n",
       "int_memory       0\n",
       "m_dep            0\n",
       "mobile_wt        0\n",
       "n_cores          0\n",
       "pc               0\n",
       "px_height        0\n",
       "px_width         0\n",
       "ram              0\n",
       "sc_h             0\n",
       "sc_w             0\n",
       "talk_time        0\n",
       "price_range      0\n",
       "dtype: int64"
      ]
     },
     "execution_count": 7,
     "metadata": {},
     "output_type": "execute_result"
    }
   ],
   "source": [
    "m.isnull().sum() # it will tells us about the missing values in the data"
   ]
  },
  {
   "cell_type": "code",
   "execution_count": null,
   "metadata": {},
   "outputs": [],
   "source": [
    "# So after seeing the values we can say that there is no missing values in the data"
   ]
  },
  {
   "cell_type": "code",
   "execution_count": 8,
   "metadata": {},
   "outputs": [
    {
     "data": {
      "text/plain": [
       "battery_power      int64\n",
       "clock_speed      float64\n",
       "fc                 int64\n",
       "int_memory         int64\n",
       "m_dep            float64\n",
       "mobile_wt          int64\n",
       "n_cores            int64\n",
       "pc                 int64\n",
       "px_height          int64\n",
       "px_width           int64\n",
       "ram                int64\n",
       "sc_h               int64\n",
       "sc_w               int64\n",
       "talk_time          int64\n",
       "price_range        int64\n",
       "dtype: object"
      ]
     },
     "execution_count": 8,
     "metadata": {},
     "output_type": "execute_result"
    }
   ],
   "source": [
    "m.dtypes"
   ]
  },
  {
   "cell_type": "code",
   "execution_count": 33,
   "metadata": {},
   "outputs": [
    {
     "name": "stdout",
     "output_type": "stream",
     "text": [
      "{'battery_power': array([ 842, 1021,  563, ..., 1139, 1467,  858], dtype=int64)}\n",
      "{'clock_speed': array([2.2, 0.5, 2.5, 1.2, 1.7, 0.6, 2.9, 2.8, 2.1, 1. , 0.9, 1.1, 2.6,\n",
      "       1.4, 1.6, 2.7, 1.3, 2.3, 2. , 1.8, 3. , 1.5, 1.9, 2.4, 0.8, 0.7])}\n",
      "{'fc': array([ 1,  0,  2, 13,  3,  4,  5,  7, 11, 12, 16,  6, 15,  8,  9, 10, 18,\n",
      "       17, 14, 19], dtype=int64)}\n",
      "{'int_memory': array([ 7, 53, 41, 10, 44, 22, 24,  9, 33, 17, 52, 46, 13, 23, 49, 19, 39,\n",
      "       47, 38,  8, 57, 51, 21,  5, 60, 61,  6, 11, 50, 34, 20, 27, 42, 40,\n",
      "       64, 14, 63, 43, 16, 48, 12, 55, 36, 30, 45, 29, 58, 25,  3, 54, 15,\n",
      "       37, 31, 32,  4, 18,  2, 56, 26, 35, 59, 28, 62], dtype=int64)}\n",
      "{'m_dep': array([0.6, 0.7, 0.9, 0.8, 0.1, 0.5, 1. , 0.3, 0.4, 0.2])}\n",
      "{'mobile_wt': array([188, 136, 145, 131, 141, 164, 139, 187, 174,  93, 182, 177, 159,\n",
      "       198, 185, 196, 121, 101,  81, 156, 199, 114, 111, 132, 143,  96,\n",
      "       200,  88, 150, 107, 100, 157, 160, 119,  87, 152, 166, 110, 118,\n",
      "       162, 127, 109, 102, 104, 148, 180, 128, 134, 144, 168, 155, 165,\n",
      "        80, 138, 142,  90, 197, 172, 116,  85, 163, 178, 171, 103,  83,\n",
      "       140, 194, 146, 192, 106, 135, 153,  89,  82, 130, 189, 181,  99,\n",
      "       184, 195, 108, 133, 179, 147, 137, 190, 176,  84,  97, 124, 183,\n",
      "       113,  92,  95, 151, 117,  94, 173, 105, 115,  91, 112, 123, 129,\n",
      "       154, 191, 175,  86,  98, 125, 126, 158, 170, 161, 193, 169, 120,\n",
      "       149, 186, 122, 167], dtype=int64)}\n",
      "{'n_cores': array([2, 3, 5, 6, 1, 8, 4, 7], dtype=int64)}\n",
      "{'pc': array([ 2,  6,  9, 14,  7, 10,  0, 15,  1, 18, 17, 11, 16,  4, 20, 13,  3,\n",
      "       19,  8,  5, 12], dtype=int64)}\n",
      "{'px_height': array([  20,  905, 1263, ...,  528,  915,  483], dtype=int64)}\n",
      "{'px_width': array([ 756, 1988, 1716, ...,  743, 1890, 1632], dtype=int64)}\n",
      "{'ram': array([2549, 2631, 2603, ..., 2032, 3057, 3919], dtype=int64)}\n",
      "{'sc_h': array([ 9, 17, 11, 16,  8, 13, 19,  5, 14, 18,  7, 10, 12,  6, 15],\n",
      "      dtype=int64)}\n",
      "{'sc_w': array([ 7,  3,  2,  8,  1, 10,  9,  0, 15, 13,  5, 11,  4, 12,  6, 17, 14,\n",
      "       16, 18], dtype=int64)}\n",
      "{'talk_time': array([19,  7,  9, 11, 15, 10, 18,  5, 20, 12, 13,  2,  4,  3, 16,  6, 14,\n",
      "       17,  8], dtype=int64)}\n",
      "{'price_range': array([1, 2, 3, 0], dtype=int64)}\n"
     ]
    }
   ],
   "source": [
    "for i in m.columns:\n",
    "    print({i:m[i].unique()})"
   ]
  },
  {
   "cell_type": "code",
   "execution_count": null,
   "metadata": {},
   "outputs": [],
   "source": [
    " #Price range --> 0(low cost), 1(medium cost), 2(high cost) and 3(very high cost)."
   ]
  },
  {
   "cell_type": "code",
   "execution_count": 9,
   "metadata": {},
   "outputs": [],
   "source": [
    "# create X and Y  \n",
    "X=m.values[:,0:-1]\n",
    "Y=m.values[:,-1]"
   ]
  },
  {
   "cell_type": "code",
   "execution_count": 10,
   "metadata": {},
   "outputs": [
    {
     "data": {
      "text/plain": [
       "(2000, 14)"
      ]
     },
     "execution_count": 10,
     "metadata": {},
     "output_type": "execute_result"
    }
   ],
   "source": [
    "X.shape"
   ]
  },
  {
   "cell_type": "code",
   "execution_count": 11,
   "metadata": {},
   "outputs": [
    {
     "data": {
      "text/plain": [
       "(2000,)"
      ]
     },
     "execution_count": 11,
     "metadata": {},
     "output_type": "execute_result"
    }
   ],
   "source": [
    "Y.shape"
   ]
  },
  {
   "cell_type": "code",
   "execution_count": 12,
   "metadata": {},
   "outputs": [],
   "source": [
    "Y=Y.astype(int)"
   ]
  },
  {
   "cell_type": "code",
   "execution_count": 13,
   "metadata": {},
   "outputs": [],
   "source": [
    "from sklearn.preprocessing import StandardScaler  # HERE WE ARE SCALING THE DATA\n",
    "\n",
    "scaler=StandardScaler()\n",
    "\n",
    "scaler.fit(X)\n",
    "\n",
    "X=scaler.transform(X)"
   ]
  },
  {
   "cell_type": "code",
   "execution_count": 14,
   "metadata": {},
   "outputs": [],
   "source": [
    "from sklearn.model_selection import train_test_split\n",
    "#split the data into test and train\n",
    "X_train,X_test,Y_train,Y_test=train_test_split(X,Y,test_size=0.3,random_state=10)"
   ]
  },
  {
   "cell_type": "code",
   "execution_count": 15,
   "metadata": {},
   "outputs": [
    {
     "name": "stdout",
     "output_type": "stream",
     "text": [
      "(1400, 14)\n",
      "(600, 14)\n",
      "(1400,)\n",
      "(600,)\n"
     ]
    }
   ],
   "source": [
    "print(X_train.shape)\n",
    "print(X_test.shape)\n",
    "print(Y_train.shape)\n",
    "print(Y_test.shape)"
   ]
  },
  {
   "cell_type": "markdown",
   "metadata": {},
   "source": [
    "# KNN"
   ]
  },
  {
   "cell_type": "code",
   "execution_count": 16,
   "metadata": {},
   "outputs": [
    {
     "name": "stdout",
     "output_type": "stream",
     "text": [
      "[(3, 3), (3, 2), (2, 1), (3, 3), (1, 0), (3, 3), (3, 2), (3, 3), (1, 0), (3, 3), (2, 2), (3, 2), (0, 0), (1, 1), (0, 0), (3, 3), (2, 2), (3, 3), (2, 3), (2, 2), (3, 3), (2, 2), (0, 0), (1, 1), (0, 0), (0, 2), (3, 3), (3, 3), (1, 2), (1, 1), (2, 2), (0, 1), (3, 3), (2, 2), (2, 1), (2, 2), (1, 0), (1, 0), (2, 2), (0, 0), (3, 3), (2, 2), (2, 1), (0, 1), (1, 1), (3, 3), (1, 1), (0, 0), (1, 0), (2, 2), (1, 1), (3, 2), (2, 3), (3, 3), (2, 2), (3, 3), (2, 2), (3, 3), (0, 0), (0, 0), (1, 1), (1, 2), (0, 0), (0, 0), (2, 2), (0, 0), (2, 2), (1, 0), (1, 2), (3, 2), (2, 3), (2, 2), (1, 0), (1, 0), (3, 3), (2, 2), (3, 2), (3, 2), (2, 2), (1, 1), (3, 2), (0, 0), (1, 1), (0, 0), (0, 0), (3, 3), (2, 2), (3, 2), (3, 3), (3, 3), (2, 2), (3, 2), (3, 3), (3, 3), (3, 3), (1, 1), (0, 0), (1, 1), (0, 0), (1, 1), (3, 2), (0, 0), (1, 1), (2, 1), (1, 1), (3, 3), (2, 3), (1, 0), (2, 1), (2, 1), (2, 2), (0, 0), (3, 3), (1, 1), (2, 2), (1, 0), (1, 1), (2, 1), (3, 3), (0, 0), (1, 0), (0, 0), (3, 3), (2, 3), (1, 2), (3, 3), (0, 1), (3, 3), (2, 2), (0, 0), (3, 3), (3, 2), (3, 3), (1, 1), (2, 3), (0, 0), (0, 0), (3, 1), (3, 2), (1, 1), (3, 2), (0, 0), (3, 3), (3, 3), (0, 0), (3, 3), (2, 3), (1, 2), (2, 2), (0, 0), (1, 1), (0, 0), (0, 0), (1, 2), (1, 0), (1, 1), (0, 0), (0, 0), (2, 2), (1, 0), (1, 0), (2, 3), (3, 3), (2, 2), (2, 3), (2, 2), (0, 1), (1, 1), (1, 2), (1, 2), (3, 3), (3, 3), (3, 3), (2, 2), (0, 0), (2, 2), (3, 3), (2, 1), (2, 2), (2, 3), (1, 2), (2, 3), (2, 2), (2, 2), (3, 3), (0, 1), (2, 1), (3, 3), (0, 0), (2, 2), (0, 0), (2, 2), (1, 0), (3, 3), (2, 2), (0, 0), (0, 0), (0, 0), (0, 0), (3, 3), (1, 0), (3, 3), (3, 3), (3, 2), (2, 3), (2, 3), (1, 2), (2, 2), (2, 2), (1, 1), (2, 2), (2, 1), (1, 1), (3, 3), (2, 2), (0, 0), (3, 2), (1, 0), (2, 2), (1, 1), (3, 3), (2, 2), (0, 0), (3, 3), (0, 0), (1, 1), (2, 2), (2, 0), (1, 1), (1, 1), (1, 1), (1, 0), (0, 0), (3, 2), (0, 0), (1, 0), (0, 0), (2, 2), (0, 0), (3, 3), (1, 1), (2, 2), (0, 1), (1, 1), (1, 0), (2, 2), (2, 2), (3, 3), (0, 0), (3, 2), (2, 1), (1, 1), (0, 0), (3, 3), (2, 3), (1, 1), (2, 2), (1, 1), (0, 0), (3, 3), (3, 3), (1, 1), (1, 2), (1, 2), (3, 3), (2, 2), (3, 2), (0, 0), (2, 2), (2, 1), (2, 3), (2, 2), (0, 0), (3, 3), (0, 0), (3, 3), (1, 1), (1, 2), (2, 2), (0, 0), (3, 3), (3, 3), (0, 0), (1, 0), (1, 0), (1, 2), (3, 2), (0, 1), (0, 0), (2, 1), (1, 0), (0, 0), (2, 3), (2, 3), (2, 2), (1, 0), (2, 2), (0, 1), (0, 0), (3, 2), (1, 2), (3, 2), (2, 2), (2, 2), (1, 1), (0, 0), (1, 0), (1, 2), (2, 1), (1, 1), (0, 0), (1, 1), (1, 2), (2, 2), (2, 1), (0, 0), (0, 0), (0, 0), (3, 2), (3, 3), (0, 0), (1, 1), (0, 0), (2, 2), (0, 0), (0, 0), (2, 3), (1, 1), (2, 2), (3, 3), (1, 2), (1, 2), (1, 1), (1, 0), (2, 1), (2, 2), (2, 2), (2, 2), (2, 2), (2, 2), (2, 1), (2, 1), (3, 2), (0, 0), (2, 3), (1, 2), (1, 1), (3, 3), (0, 0), (1, 1), (0, 0), (1, 1), (3, 2), (2, 3), (3, 3), (3, 3), (0, 0), (3, 3), (3, 2), (1, 1), (1, 2), (2, 2), (0, 0), (3, 2), (0, 1), (3, 2), (2, 2), (0, 1), (2, 2), (0, 0), (0, 0), (3, 3), (0, 0), (1, 1), (2, 2), (2, 0), (0, 0), (3, 2), (0, 0), (0, 0), (3, 2), (2, 1), (0, 0), (0, 0), (0, 0), (3, 2), (1, 0), (3, 3), (3, 3), (1, 0), (0, 0), (2, 1), (0, 0), (3, 2), (3, 2), (3, 3), (1, 0), (0, 1), (2, 2), (1, 1), (0, 0), (3, 3), (0, 0), (3, 2), (2, 2), (2, 2), (1, 0), (0, 0), (1, 0), (1, 1), (2, 3), (1, 1), (1, 0), (3, 2), (0, 0), (2, 2), (0, 1), (2, 3), (3, 3), (0, 0), (0, 0), (3, 3), (3, 2), (1, 1), (1, 2), (3, 2), (1, 1), (3, 3), (2, 2), (3, 3), (1, 1), (1, 1), (0, 0), (1, 2), (2, 1), (1, 1), (2, 2), (0, 0), (3, 2), (0, 0), (1, 0), (0, 0), (1, 1), (2, 2), (2, 2), (1, 0), (2, 1), (1, 1), (1, 1), (0, 0), (1, 1), (0, 1), (0, 0), (2, 1), (0, 0), (1, 0), (1, 1), (2, 2), (3, 2), (0, 0), (0, 0), (1, 1), (3, 3), (0, 0), (1, 1), (0, 0), (3, 3), (2, 2), (3, 3), (1, 1), (0, 0), (3, 2), (1, 0), (0, 1), (3, 3), (2, 3), (3, 3), (2, 1), (3, 3), (0, 0), (3, 3), (1, 1), (0, 1), (0, 1), (0, 1), (2, 3), (3, 2), (2, 2), (2, 2), (2, 2), (2, 0), (2, 2), (2, 1), (1, 2), (2, 2), (0, 0), (2, 2), (1, 0), (1, 0), (1, 1), (0, 1), (0, 0), (0, 0), (0, 1), (1, 1), (3, 2), (2, 2), (1, 2), (3, 3), (1, 2), (2, 2), (2, 1), (3, 2), (2, 2), (1, 2), (2, 2), (3, 3), (2, 2), (2, 2), (1, 2), (3, 2), (3, 2), (3, 3), (1, 0), (0, 0), (2, 1), (0, 0), (2, 3), (1, 1), (1, 1), (1, 1), (2, 3), (1, 0), (1, 0), (1, 0), (2, 2), (3, 3), (2, 2), (1, 1), (1, 0), (3, 2), (0, 0), (0, 1), (0, 0), (3, 3), (0, 0), (0, 0), (1, 1), (2, 3), (0, 0), (1, 2), (3, 3), (3, 3), (1, 2), (2, 1), (1, 0), (2, 2), (1, 0), (0, 0), (3, 2), (2, 2), (1, 3), (0, 0), (1, 2), (2, 1), (3, 3), (3, 2), (2, 2), (0, 0), (0, 0), (2, 1), (1, 1), (0, 0), (3, 3), (1, 1), (2, 2), (2, 2), (3, 3), (2, 2), (1, 0), (1, 1), (1, 1), (2, 3), (1, 0), (0, 0), (1, 2), (1, 1), (0, 0), (3, 2), (3, 3), (3, 3), (1, 0), (3, 2), (0, 0), (1, 3), (0, 0), (3, 2), (3, 3), (0, 0), (3, 3)]\n"
     ]
    }
   ],
   "source": [
    "# predicting using the Kneighbors_Classifier\n",
    "from sklearn.neighbors import KNeighborsClassifier\n",
    "model_knn= KNeighborsClassifier(n_neighbors=int(np.sqrt(len(X_train))),metric='euclidean')\n",
    "# euclidean,manhatten,minkowski\n",
    "# fit the model on the data and predict the values\n",
    "model_knn.fit(X_train,Y_train)\n",
    "\n",
    "Y_pred=model_knn.predict(X_test)\n",
    "print(list(zip(Y_test,Y_pred)))"
   ]
  },
  {
   "cell_type": "code",
   "execution_count": 17,
   "metadata": {},
   "outputs": [
    {
     "name": "stdout",
     "output_type": "stream",
     "text": [
      "[[119  20   1   0]\n",
      " [ 48  75  32   2]\n",
      " [  3  30  96  28]\n",
      " [  0   1  51  94]]\n",
      "Classification report: \n",
      "              precision    recall  f1-score   support\n",
      "\n",
      "           0       0.70      0.85      0.77       140\n",
      "           1       0.60      0.48      0.53       157\n",
      "           2       0.53      0.61      0.57       157\n",
      "           3       0.76      0.64      0.70       146\n",
      "\n",
      "    accuracy                           0.64       600\n",
      "   macro avg       0.65      0.65      0.64       600\n",
      "weighted avg       0.64      0.64      0.64       600\n",
      "\n",
      "Accuracy of the model:  0.64\n"
     ]
    }
   ],
   "source": [
    "from sklearn.metrics import confusion_matrix, accuracy_score, classification_report\n",
    "\n",
    "cfm=confusion_matrix(Y_test,Y_pred)\n",
    "print(cfm)\n",
    "\n",
    "print(\"Classification report: \")\n",
    "\n",
    "print(classification_report(Y_test,Y_pred))\n",
    "\n",
    "acc=accuracy_score(Y_test, Y_pred)\n",
    "print(\"Accuracy of the model: \",acc)"
   ]
  },
  {
   "cell_type": "code",
   "execution_count": 18,
   "metadata": {},
   "outputs": [
    {
     "name": "stdout",
     "output_type": "stream",
     "text": [
      "Accuracy is 0.5383333333333333 for K value: 1\n",
      "Accuracy is 0.495 for K value: 2\n",
      "Accuracy is 0.5116666666666667 for K value: 3\n",
      "Accuracy is 0.5516666666666666 for K value: 4\n",
      "Accuracy is 0.57 for K value: 5\n",
      "Accuracy is 0.5783333333333334 for K value: 6\n",
      "Accuracy is 0.5783333333333334 for K value: 7\n",
      "Accuracy is 0.5883333333333334 for K value: 8\n",
      "Accuracy is 0.5966666666666667 for K value: 9\n",
      "Accuracy is 0.5966666666666667 for K value: 10\n",
      "Accuracy is 0.6166666666666667 for K value: 11\n",
      "Accuracy is 0.6283333333333333 for K value: 12\n",
      "Accuracy is 0.6316666666666667 for K value: 13\n",
      "Accuracy is 0.6416666666666667 for K value: 14\n",
      "Accuracy is 0.63 for K value: 15\n",
      "Accuracy is 0.64 for K value: 16\n",
      "Accuracy is 0.6566666666666666 for K value: 17\n",
      "Accuracy is 0.6633333333333333 for K value: 18\n",
      "Accuracy is 0.655 for K value: 19\n",
      "Accuracy is 0.645 for K value: 20\n",
      "Accuracy is 0.6516666666666666 for K value: 21\n",
      "Accuracy is 0.65 for K value: 22\n",
      "Accuracy is 0.6466666666666666 for K value: 23\n",
      "Accuracy is 0.6466666666666666 for K value: 24\n",
      "Accuracy is 0.645 for K value: 25\n",
      "Accuracy is 0.6466666666666666 for K value: 26\n",
      "Accuracy is 0.6483333333333333 for K value: 27\n",
      "Accuracy is 0.6566666666666666 for K value: 28\n",
      "Accuracy is 0.6583333333333333 for K value: 29\n",
      "Accuracy is 0.6583333333333333 for K value: 30\n"
     ]
    }
   ],
   "source": [
    "from sklearn.metrics import accuracy_score\n",
    "my_dict={}\n",
    "for k in range(1,31):\n",
    "    model_knn=KNeighborsClassifier(n_neighbors=k,metric='euclidean')\n",
    "    model_knn.fit(X_train,Y_train)\n",
    "    Y_pred_1=model_knn.predict(X_test)\n",
    "    print('Accuracy is',accuracy_score(Y_test,Y_pred_1),'for K value:',k)\n",
    "    my_dict[k]=accuracy_score(Y_test,Y_pred_1)"
   ]
  },
  {
   "cell_type": "markdown",
   "metadata": {},
   "source": [
    "# LOGISTIC REGRESSION"
   ]
  },
  {
   "cell_type": "code",
   "execution_count": 19,
   "metadata": {},
   "outputs": [
    {
     "name": "stdout",
     "output_type": "stream",
     "text": [
      "[-3.08359983  2.99836137  3.00094114 -2.91570269]\n",
      "[[-2.61698341e+00  6.98204212e-02 -3.43451531e-02 -1.80799834e-01\n",
      "   4.31384889e-02  3.70021994e-01 -2.10396230e-02 -9.71132538e-03\n",
      "  -1.53401878e+00 -1.45129525e+00 -1.03428663e+01 -4.20987479e-02\n",
      "   7.67651014e-02 -2.25297318e-02]\n",
      " [-8.42422967e-01 -3.92274306e-02  7.58172155e-04 -3.04019701e-02\n",
      "   8.72657584e-02  1.37244383e-01 -9.43055062e-02 -1.41403352e-02\n",
      "  -4.45972713e-01 -4.78580756e-01 -3.24968763e+00 -8.62032130e-02\n",
      "  -1.90905497e-02 -2.19939034e-03]\n",
      " [ 7.85362158e-01  1.06329448e-02  2.41981333e-03 -1.24031969e-02\n",
      "  -7.30574234e-02  9.81628625e-03  5.08516579e-02  3.60800088e-02\n",
      "   4.50359811e-01  4.03713121e-01  3.25280846e+00 -5.65013473e-02\n",
      "  -1.46726132e-02  1.75858316e-02]\n",
      " [ 2.67404422e+00 -4.12259355e-02  3.11671676e-02  2.23605001e-01\n",
      "  -5.73468240e-02 -5.17082663e-01  6.44934713e-02 -1.22283483e-02\n",
      "   1.52963168e+00  1.52616289e+00  1.03397455e+01  1.84803308e-01\n",
      "  -4.30019385e-02  7.14329054e-03]]\n"
     ]
    }
   ],
   "source": [
    "from sklearn.linear_model import LogisticRegression\n",
    "# create a model object\n",
    "lm_class=LogisticRegression()\n",
    "#train the model object\n",
    "lm_class.fit(X_train,Y_train)\n",
    "\n",
    "#print intercept and coefficients\n",
    "print(lm_class.intercept_)\n",
    "print(lm_class.coef_)"
   ]
  },
  {
   "cell_type": "code",
   "execution_count": 20,
   "metadata": {},
   "outputs": [
    {
     "name": "stdout",
     "output_type": "stream",
     "text": [
      "[3 3 2 3 1 3 3 3 1 3 2 3 0 1 0 3 2 3 2 2 3 2 0 1 0 0 2 3 1 1 2 0 3 2 2 2 1\n",
      " 1 2 0 3 2 2 0 1 3 1 0 1 2 1 3 2 3 2 3 2 3 0 0 1 1 0 0 2 0 2 1 2 3 2 2 1 1\n",
      " 3 1 3 3 2 1 3 0 0 0 0 3 2 3 3 3 2 3 3 3 3 1 0 1 0 1 3 0 1 1 1 3 2 1 2 2 2\n",
      " 0 3 1 2 1 1 2 3 0 1 0 3 2 1 3 0 3 2 0 3 3 3 1 2 0 0 3 3 1 3 0 3 2 0 3 3 1\n",
      " 2 0 1 0 0 1 1 1 0 0 2 1 1 2 3 2 2 2 0 1 1 1 3 3 3 2 0 2 3 2 2 2 1 2 2 2 3\n",
      " 0 2 3 0 2 0 2 1 3 2 0 0 0 0 3 1 3 3 3 2 2 1 2 2 1 2 1 1 3 2 0 3 1 2 1 3 2\n",
      " 0 3 0 1 2 2 1 0 1 1 0 3 0 1 0 2 0 3 1 2 0 1 1 2 2 3 0 3 2 1 0 3 2 1 2 1 0\n",
      " 3 3 1 1 1 3 2 3 0 2 2 2 2 0 3 0 3 1 1 2 0 3 3 0 1 1 1 3 0 0 1 1 0 2 2 2 1\n",
      " 2 0 0 3 1 3 2 2 1 0 1 1 2 1 0 1 1 2 2 0 0 0 3 3 0 1 0 2 0 0 2 1 2 3 1 1 1\n",
      " 1 2 2 2 2 2 2 2 2 3 0 3 1 1 3 0 1 0 1 3 2 3 3 0 3 3 1 1 2 0 3 0 3 2 0 2 0\n",
      " 0 3 0 1 2 2 0 3 0 0 3 2 0 0 0 3 1 3 3 1 0 1 0 3 3 3 1 0 2 1 0 3 0 3 2 2 1\n",
      " 0 1 1 2 1 1 3 0 2 0 2 3 0 0 3 3 1 1 3 1 3 2 3 1 1 0 1 2 1 2 0 3 0 1 0 1 2\n",
      " 2 0 2 1 1 0 1 0 0 2 0 1 1 2 2 0 0 1 3 0 1 0 3 2 3 1 0 3 1 0 3 2 3 2 3 0 3\n",
      " 1 0 0 0 2 3 2 2 2 2 2 2 1 2 0 2 1 0 1 0 0 0 0 1 3 2 1 3 1 2 2 3 2 1 2 3 2\n",
      " 2 1 3 3 3 1 0 2 0 2 1 1 1 2 1 1 1 2 3 2 1 1 3 0 0 0 3 0 0 1 2 0 1 3 3 1 2\n",
      " 1 2 1 0 3 2 1 0 1 2 3 3 2 0 0 2 1 0 3 1 2 2 3 2 1 1 1 2 1 0 1 1 0 3 3 3 1\n",
      " 3 0 1 0 3 3 0 3]\n"
     ]
    }
   ],
   "source": [
    "# predict using the model\n",
    "Y_pred=lm_class.predict(X_test)\n",
    "print(Y_pred)"
   ]
  },
  {
   "cell_type": "code",
   "execution_count": 21,
   "metadata": {},
   "outputs": [
    {
     "name": "stdout",
     "output_type": "stream",
     "text": [
      "[[140   0   0   0]\n",
      " [  4 152   1   0]\n",
      " [  0   5 150   2]\n",
      " [  0   0   3 143]]\n",
      "Classification report: \n",
      "              precision    recall  f1-score   support\n",
      "\n",
      "           0       0.97      1.00      0.99       140\n",
      "           1       0.97      0.97      0.97       157\n",
      "           2       0.97      0.96      0.96       157\n",
      "           3       0.99      0.98      0.98       146\n",
      "\n",
      "    accuracy                           0.97       600\n",
      "   macro avg       0.98      0.98      0.98       600\n",
      "weighted avg       0.98      0.97      0.97       600\n",
      "\n",
      "Accuracy of the model:  0.975\n"
     ]
    }
   ],
   "source": [
    "from sklearn.metrics import confusion_matrix, accuracy_score, classification_report\n",
    "\n",
    "cfm=confusion_matrix(Y_test,Y_pred)\n",
    "print(cfm)\n",
    "\n",
    "print(\"Classification report: \")\n",
    "\n",
    "print(classification_report(Y_test,Y_pred))\n",
    "\n",
    "acc=accuracy_score(Y_test, Y_pred)\n",
    "print(\"Accuracy of the model: \",acc)"
   ]
  },
  {
   "cell_type": "markdown",
   "metadata": {},
   "source": [
    "# SVC"
   ]
  },
  {
   "cell_type": "code",
   "execution_count": 22,
   "metadata": {},
   "outputs": [],
   "source": [
    "from sklearn.model_selection import train_test_split\n",
    "#split the data into test and train\n",
    "X_train,X_test,Y_train,Y_test=train_test_split(X,Y,test_size=0.3,random_state=10)"
   ]
  },
  {
   "cell_type": "code",
   "execution_count": 23,
   "metadata": {},
   "outputs": [
    {
     "name": "stdout",
     "output_type": "stream",
     "text": [
      "[3, 3, 1, 3, 1, 3, 3, 3, 1, 3, 2, 3, 0, 1, 0, 3, 2, 3, 2, 2, 3, 2, 0, 1, 0, 0, 2, 3, 1, 1, 2, 0, 3, 2, 2, 2, 1, 0, 3, 0, 3, 2, 2, 0, 1, 3, 1, 0, 1, 1, 1, 2, 2, 3, 2, 3, 2, 3, 0, 0, 1, 2, 0, 0, 2, 0, 2, 1, 2, 3, 2, 2, 0, 1, 3, 1, 3, 3, 2, 1, 2, 0, 1, 0, 0, 3, 2, 2, 3, 3, 2, 3, 3, 3, 3, 2, 0, 1, 1, 1, 3, 0, 1, 2, 1, 3, 1, 1, 2, 1, 2, 0, 3, 1, 2, 1, 1, 1, 3, 0, 1, 0, 3, 2, 1, 3, 0, 3, 2, 0, 3, 2, 3, 1, 3, 0, 0, 2, 3, 1, 3, 0, 3, 2, 0, 3, 3, 1, 2, 0, 1, 0, 0, 1, 0, 1, 0, 0, 3, 1, 1, 1, 3, 2, 1, 2, 0, 1, 2, 1, 3, 3, 3, 2, 0, 2, 3, 2, 2, 2, 1, 2, 2, 2, 3, 0, 1, 3, 0, 3, 0, 2, 1, 3, 2, 0, 0, 0, 0, 3, 1, 3, 3, 3, 2, 2, 1, 2, 2, 1, 2, 1, 1, 3, 2, 1, 2, 1, 2, 1, 3, 2, 0, 3, 0, 1, 2, 2, 1, 0, 1, 1, 0, 3, 0, 1, 0, 2, 0, 3, 1, 2, 0, 1, 1, 2, 2, 3, 0, 2, 2, 1, 0, 3, 3, 1, 2, 1, 1, 3, 3, 1, 2, 2, 3, 2, 3, 0, 2, 2, 2, 2, 0, 3, 0, 3, 1, 2, 2, 0, 3, 3, 0, 1, 1, 1, 3, 0, 0, 1, 2, 0, 2, 3, 2, 0, 2, 0, 0, 3, 1, 3, 2, 2, 1, 0, 1, 2, 2, 1, 0, 1, 1, 2, 2, 0, 0, 0, 2, 3, 0, 1, 0, 2, 0, 1, 3, 1, 2, 3, 1, 1, 1, 1, 2, 2, 2, 2, 2, 2, 2, 1, 3, 0, 2, 1, 1, 3, 0, 1, 0, 1, 3, 2, 3, 3, 0, 3, 3, 1, 1, 2, 0, 2, 0, 3, 2, 1, 2, 0, 0, 3, 0, 1, 2, 1, 0, 3, 0, 0, 3, 2, 0, 0, 0, 3, 1, 3, 3, 1, 0, 2, 0, 3, 2, 3, 0, 0, 2, 1, 0, 3, 0, 3, 2, 2, 1, 0, 1, 1, 2, 1, 1, 3, 0, 2, 1, 2, 3, 0, 0, 3, 3, 1, 2, 3, 1, 3, 2, 3, 1, 1, 0, 1, 2, 1, 2, 0, 3, 0, 1, 0, 1, 2, 2, 0, 2, 1, 1, 0, 1, 0, 0, 3, 0, 1, 1, 2, 2, 0, 0, 1, 3, 0, 1, 0, 3, 2, 3, 1, 0, 3, 1, 1, 3, 3, 3, 2, 3, 0, 3, 1, 1, 1, 0, 2, 3, 2, 2, 2, 2, 2, 1, 1, 2, 0, 2, 1, 1, 1, 1, 0, 0, 0, 2, 3, 2, 2, 3, 2, 2, 1, 2, 2, 1, 2, 3, 2, 2, 1, 3, 2, 3, 0, 0, 1, 1, 1, 1, 1, 1, 2, 1, 1, 2, 2, 3, 2, 1, 1, 2, 0, 0, 0, 3, 0, 0, 1, 2, 0, 1, 3, 3, 1, 2, 1, 2, 1, 0, 3, 2, 1, 0, 2, 2, 3, 2, 2, 0, 0, 2, 2, 0, 3, 1, 2, 2, 3, 2, 1, 1, 1, 2, 1, 0, 1, 2, 0, 2, 3, 3, 1, 3, 0, 1, 0, 3, 3, 0, 3]\n"
     ]
    }
   ],
   "source": [
    "from sklearn.svm import SVC\n",
    "svc_model=SVC(kernel='rbf',C=1,gamma=0.1,probability=True)\n",
    "svc_model.fit(X_train,Y_train)\n",
    "Y_pred=svc_model.predict(X_test)\n",
    "print(list(Y_pred))"
   ]
  },
  {
   "cell_type": "code",
   "execution_count": 24,
   "metadata": {},
   "outputs": [
    {
     "name": "stdout",
     "output_type": "stream",
     "text": [
      "[[129  11   0   0]\n",
      " [  8 132  17   0]\n",
      " [  0  17 130  10]\n",
      " [  0   0  18 128]]\n",
      "Classification report: \n",
      "              precision    recall  f1-score   support\n",
      "\n",
      "           0       0.94      0.92      0.93       140\n",
      "           1       0.82      0.84      0.83       157\n",
      "           2       0.79      0.83      0.81       157\n",
      "           3       0.93      0.88      0.90       146\n",
      "\n",
      "    accuracy                           0.86       600\n",
      "   macro avg       0.87      0.87      0.87       600\n",
      "weighted avg       0.87      0.86      0.87       600\n",
      "\n",
      "Accuracy of the model:  0.865\n"
     ]
    }
   ],
   "source": [
    "from sklearn.metrics import confusion_matrix, accuracy_score, classification_report\n",
    "\n",
    "cfm=confusion_matrix(Y_test,Y_pred)\n",
    "print(cfm)\n",
    "\n",
    "print(\"Classification report: \")\n",
    "\n",
    "print(classification_report(Y_test,Y_pred))\n",
    "\n",
    "acc=accuracy_score(Y_test, Y_pred)\n",
    "print(\"Accuracy of the model: \",acc)"
   ]
  },
  {
   "cell_type": "code",
   "execution_count": 25,
   "metadata": {},
   "outputs": [],
   "source": [
    "from sklearn import svm         # IT IS THE METHOD TO FIND OUT THE BEST HYPERPARAMETER VALUE FOR THE ALGORITHM\n",
    "\n",
    "svc_model = svm.SVC(kernel=\"rbf\")\n",
    "\n",
    "parameter_space = {\n",
    "    #'kernel': [\"linear\",\"rbf\",\"poly\",\"sigmoid\"],\n",
    "    'gamma': [0.1,0.01,0.001],\n",
    "    \"C\": np.arange(0,101,5)\n",
    "    #'C': [1,5,8,10,20,30, 40,50,70]\n",
    "    \n",
    "}\n",
    "from sklearn.model_selection import GridSearchCV\n",
    "clf = GridSearchCV(svc_model, parameter_space, n_jobs=-1, cv=5)"
   ]
  },
  {
   "cell_type": "code",
   "execution_count": 26,
   "metadata": {},
   "outputs": [
    {
     "data": {
      "text/plain": [
       "GridSearchCV(cv=5, estimator=SVC(), n_jobs=-1,\n",
       "             param_grid={'C': array([  0,   5,  10,  15,  20,  25,  30,  35,  40,  45,  50,  55,  60,\n",
       "        65,  70,  75,  80,  85,  90,  95, 100]),\n",
       "                         'gamma': [0.1, 0.01, 0.001]})"
      ]
     },
     "execution_count": 26,
     "metadata": {},
     "output_type": "execute_result"
    }
   ],
   "source": [
    "clf.fit(X_train,Y_train)"
   ]
  },
  {
   "cell_type": "code",
   "execution_count": 27,
   "metadata": {},
   "outputs": [
    {
     "name": "stdout",
     "output_type": "stream",
     "text": [
      "best parameter found:/n {'C': 100, 'gamma': 0.001}\n"
     ]
    }
   ],
   "source": [
    "print('best parameter found:/n',clf.best_params_)"
   ]
  },
  {
   "cell_type": "code",
   "execution_count": 28,
   "metadata": {},
   "outputs": [
    {
     "name": "stdout",
     "output_type": "stream",
     "text": [
      "[3, 3, 2, 3, 1, 3, 3, 3, 1, 3, 2, 3, 0, 1, 0, 3, 2, 3, 2, 2, 3, 2, 0, 1, 0, 0, 2, 3, 1, 1, 2, 0, 3, 2, 2, 2, 1, 1, 2, 0, 3, 2, 2, 0, 1, 3, 1, 0, 1, 2, 1, 3, 2, 3, 2, 3, 2, 3, 0, 0, 1, 1, 0, 0, 2, 0, 2, 0, 2, 3, 2, 2, 1, 1, 3, 1, 3, 3, 2, 1, 3, 0, 0, 0, 0, 3, 2, 3, 3, 3, 2, 3, 3, 3, 3, 1, 0, 1, 1, 1, 3, 0, 1, 1, 1, 3, 2, 1, 2, 2, 2, 0, 3, 1, 2, 1, 1, 1, 3, 0, 1, 0, 3, 2, 1, 3, 0, 3, 2, 0, 3, 3, 3, 1, 2, 0, 0, 3, 3, 1, 3, 0, 3, 2, 0, 3, 3, 1, 2, 0, 1, 0, 0, 1, 1, 1, 0, 0, 2, 1, 1, 2, 3, 2, 2, 2, 0, 1, 1, 1, 3, 3, 3, 2, 0, 2, 3, 2, 2, 2, 1, 2, 2, 2, 3, 0, 2, 3, 0, 2, 0, 2, 1, 3, 2, 0, 0, 0, 0, 3, 1, 3, 3, 3, 2, 2, 1, 2, 2, 1, 2, 1, 1, 3, 2, 1, 3, 1, 2, 1, 3, 2, 0, 3, 0, 1, 2, 2, 1, 0, 1, 1, 0, 3, 0, 1, 0, 2, 0, 3, 1, 2, 0, 1, 1, 2, 2, 3, 0, 3, 2, 1, 0, 3, 2, 1, 2, 1, 0, 3, 3, 1, 1, 1, 3, 2, 3, 0, 2, 2, 2, 2, 0, 3, 0, 3, 1, 1, 2, 0, 3, 3, 0, 1, 1, 1, 3, 0, 0, 1, 1, 0, 2, 3, 2, 1, 2, 0, 0, 3, 1, 3, 2, 2, 1, 0, 1, 2, 2, 1, 0, 1, 1, 2, 2, 0, 0, 0, 3, 3, 0, 1, 0, 2, 0, 0, 2, 1, 2, 3, 1, 1, 1, 1, 2, 2, 2, 2, 2, 2, 2, 2, 3, 0, 3, 1, 1, 3, 0, 1, 0, 1, 3, 2, 3, 3, 0, 3, 3, 1, 1, 2, 0, 3, 0, 3, 2, 0, 2, 0, 0, 3, 0, 1, 2, 2, 0, 3, 0, 0, 3, 2, 0, 0, 0, 3, 1, 3, 3, 1, 0, 1, 0, 3, 3, 3, 1, 0, 2, 1, 0, 3, 0, 3, 2, 2, 1, 0, 1, 1, 2, 1, 1, 3, 0, 2, 0, 2, 3, 0, 0, 3, 3, 1, 1, 3, 1, 3, 2, 3, 1, 1, 0, 1, 2, 1, 2, 0, 3, 0, 1, 0, 1, 2, 2, 0, 2, 1, 1, 0, 1, 0, 0, 2, 0, 1, 1, 2, 2, 0, 0, 1, 3, 0, 1, 0, 3, 2, 3, 1, 0, 3, 1, 0, 3, 3, 3, 2, 3, 0, 3, 1, 0, 0, 0, 2, 3, 2, 2, 2, 2, 2, 2, 1, 2, 0, 2, 1, 0, 1, 0, 0, 0, 0, 1, 3, 2, 1, 3, 1, 2, 2, 3, 2, 1, 2, 3, 2, 2, 1, 3, 3, 3, 0, 0, 2, 0, 2, 1, 1, 1, 2, 1, 1, 1, 2, 3, 2, 1, 1, 3, 0, 0, 0, 3, 0, 0, 1, 2, 0, 1, 3, 3, 1, 2, 1, 2, 1, 0, 3, 2, 1, 0, 1, 2, 3, 3, 2, 0, 0, 2, 1, 0, 3, 1, 2, 2, 3, 2, 1, 1, 1, 2, 1, 0, 1, 1, 0, 3, 3, 3, 1, 3, 0, 1, 0, 3, 3, 0, 3]\n"
     ]
    }
   ],
   "source": [
    "from sklearn.svm import SVC\n",
    "svc_model=SVC(kernel='rbf',C=100,gamma=0.001,probability=True)\n",
    "svc_model.fit(X_train,Y_train)\n",
    "Y_pred=svc_model.predict(X_test)\n",
    "print(list(Y_pred))"
   ]
  },
  {
   "cell_type": "code",
   "execution_count": 29,
   "metadata": {},
   "outputs": [
    {
     "name": "stdout",
     "output_type": "stream",
     "text": [
      "[[138   2   0   0]\n",
      " [  6 149   2   0]\n",
      " [  0   6 147   4]\n",
      " [  0   0   3 143]]\n",
      "Classification report: \n",
      "              precision    recall  f1-score   support\n",
      "\n",
      "           0       0.96      0.99      0.97       140\n",
      "           1       0.95      0.95      0.95       157\n",
      "           2       0.97      0.94      0.95       157\n",
      "           3       0.97      0.98      0.98       146\n",
      "\n",
      "    accuracy                           0.96       600\n",
      "   macro avg       0.96      0.96      0.96       600\n",
      "weighted avg       0.96      0.96      0.96       600\n",
      "\n",
      "Accuracy of the model:  0.9616666666666667\n"
     ]
    }
   ],
   "source": [
    "from sklearn.metrics import confusion_matrix, accuracy_score, classification_report\n",
    "\n",
    "cfm=confusion_matrix(Y_test,Y_pred)\n",
    "print(cfm)\n",
    "\n",
    "print(\"Classification report: \")\n",
    "\n",
    "print(classification_report(Y_test,Y_pred))\n",
    "\n",
    "acc=accuracy_score(Y_test, Y_pred)\n",
    "print(\"Accuracy of the model: \",acc)"
   ]
  },
  {
   "cell_type": "markdown",
   "metadata": {},
   "source": [
    "# DT MODEL"
   ]
  },
  {
   "cell_type": "code",
   "execution_count": 30,
   "metadata": {},
   "outputs": [],
   "source": [
    "from sklearn.model_selection import train_test_split\n",
    "#split the data into test and train\n",
    "X_train,X_test,Y_train,Y_test=train_test_split(X,Y,test_size=0.3,random_state=10)"
   ]
  },
  {
   "cell_type": "code",
   "execution_count": 31,
   "metadata": {},
   "outputs": [
    {
     "name": "stdout",
     "output_type": "stream",
     "text": [
      "[3, 3, 1, 3, 1, 3, 3, 3, 1, 3, 3, 3, 0, 1, 0, 3, 2, 3, 2, 2, 3, 2, 0, 1, 0, 0, 2, 3, 1, 1, 2, 0, 3, 3, 2, 2, 1, 0, 2, 0, 3, 2, 2, 0, 1, 3, 1, 0, 1, 1, 1, 2, 2, 2, 3, 3, 2, 3, 0, 0, 1, 1, 0, 0, 3, 0, 2, 0, 2, 2, 2, 2, 0, 1, 3, 1, 3, 3, 2, 1, 3, 0, 1, 0, 0, 3, 2, 3, 3, 3, 1, 3, 3, 3, 3, 2, 0, 1, 1, 0, 3, 0, 1, 2, 1, 3, 2, 1, 2, 1, 2, 0, 3, 1, 2, 1, 1, 1, 3, 0, 1, 1, 3, 2, 1, 3, 0, 3, 2, 0, 3, 3, 3, 1, 3, 0, 0, 2, 3, 2, 3, 0, 3, 2, 0, 3, 2, 1, 2, 1, 1, 0, 0, 1, 0, 1, 0, 0, 3, 1, 1, 2, 3, 3, 2, 1, 1, 1, 2, 1, 3, 3, 3, 2, 0, 2, 3, 2, 2, 2, 1, 3, 1, 3, 3, 0, 1, 3, 0, 2, 1, 2, 1, 3, 2, 0, 0, 0, 0, 2, 0, 3, 3, 3, 2, 1, 1, 1, 2, 1, 2, 1, 1, 3, 2, 1, 3, 1, 3, 1, 3, 2, 0, 3, 0, 1, 2, 2, 1, 1, 1, 1, 0, 3, 0, 1, 0, 2, 0, 3, 1, 2, 0, 1, 1, 3, 2, 3, 0, 3, 2, 1, 0, 3, 2, 1, 2, 1, 1, 3, 3, 1, 2, 1, 3, 2, 3, 0, 2, 2, 3, 2, 0, 3, 0, 3, 1, 1, 3, 0, 3, 3, 0, 1, 1, 1, 3, 0, 0, 1, 1, 0, 2, 3, 2, 1, 2, 0, 0, 3, 1, 3, 2, 2, 1, 0, 1, 2, 2, 2, 0, 1, 1, 1, 2, 0, 0, 0, 3, 3, 0, 1, 0, 2, 0, 0, 2, 1, 2, 3, 1, 1, 1, 0, 2, 2, 1, 2, 2, 2, 2, 2, 3, 0, 2, 1, 1, 3, 0, 1, 0, 1, 2, 2, 3, 3, 0, 3, 2, 1, 2, 2, 0, 3, 0, 3, 3, 1, 2, 0, 0, 3, 0, 1, 2, 1, 0, 3, 0, 0, 3, 2, 0, 0, 0, 3, 1, 3, 3, 1, 0, 2, 0, 3, 2, 3, 1, 0, 2, 1, 0, 3, 0, 3, 2, 3, 1, 0, 0, 1, 2, 1, 1, 3, 0, 2, 0, 2, 3, 1, 0, 3, 3, 1, 0, 3, 1, 3, 3, 3, 1, 1, 0, 1, 2, 1, 2, 0, 3, 0, 1, 0, 1, 2, 2, 0, 2, 1, 1, 0, 1, 0, 0, 2, 0, 1, 1, 1, 2, 0, 0, 1, 3, 0, 1, 0, 3, 2, 3, 0, 0, 3, 1, 0, 3, 3, 3, 2, 3, 0, 3, 1, 0, 0, 0, 2, 3, 2, 2, 3, 2, 2, 2, 1, 2, 0, 2, 1, 0, 2, 0, 0, 0, 1, 1, 3, 2, 2, 3, 1, 3, 1, 3, 2, 1, 3, 3, 2, 2, 1, 3, 3, 3, 0, 0, 2, 1, 2, 1, 1, 1, 2, 1, 1, 1, 2, 3, 2, 1, 1, 2, 0, 0, 1, 3, 0, 0, 1, 2, 0, 1, 3, 3, 1, 1, 1, 2, 1, 0, 3, 2, 1, 0, 1, 2, 3, 2, 2, 0, 0, 2, 1, 0, 3, 1, 2, 2, 3, 2, 0, 1, 1, 2, 0, 0, 1, 2, 0, 3, 3, 3, 1, 3, 0, 1, 0, 3, 3, 0, 3]\n"
     ]
    }
   ],
   "source": [
    "from sklearn.tree import DecisionTreeClassifier\n",
    "d_model=DecisionTreeClassifier(criterion='gini',random_state=10)\n",
    "#min_sample_leaf,min_samples_split,max_depth,max_features [PRUNING HYPERPARAMETERS]\n",
    "d_model.fit(X_train,Y_train)\n",
    "Y_pred=d_model.predict(X_test)\n",
    "print(list(Y_pred))"
   ]
  },
  {
   "cell_type": "code",
   "execution_count": 32,
   "metadata": {},
   "outputs": [
    {
     "name": "stdout",
     "output_type": "stream",
     "text": [
      "[[128  12   0   0]\n",
      " [ 15 131  11   0]\n",
      " [  0  19 117  21]\n",
      " [  0   0  13 133]]\n",
      "Classification report: \n",
      "              precision    recall  f1-score   support\n",
      "\n",
      "           0       0.90      0.91      0.90       140\n",
      "           1       0.81      0.83      0.82       157\n",
      "           2       0.83      0.75      0.79       157\n",
      "           3       0.86      0.91      0.89       146\n",
      "\n",
      "    accuracy                           0.85       600\n",
      "   macro avg       0.85      0.85      0.85       600\n",
      "weighted avg       0.85      0.85      0.85       600\n",
      "\n",
      "Accuracy of the model:  0.8483333333333334\n"
     ]
    }
   ],
   "source": [
    "from sklearn.metrics import confusion_matrix, accuracy_score, classification_report\n",
    "\n",
    "cfm=confusion_matrix(Y_test,Y_pred)\n",
    "print(cfm)\n",
    "\n",
    "print(\"Classification report: \")\n",
    "\n",
    "print(classification_report(Y_test,Y_pred))\n",
    "\n",
    "acc=accuracy_score(Y_test, Y_pred)\n",
    "print(\"Accuracy of the model: \",acc)"
   ]
  },
  {
   "cell_type": "markdown",
   "metadata": {},
   "source": [
    "SO AFTER APPLYING KNN,LOGISTIC REG,SVM AND D.T WE CAME TO KNOW THAT AMONG THIS FOUR LOGISTIC REGRESSION MODEL IS PROVIDING THE BEST ACCURACY AS WELL AS BEST RECALL VALUE SO FOR ANY UPCOMING FUTURE PREDICTIONS WE ARE GOING TO USE LOGISTIC REGRESSION MODEL."
   ]
  },
  {
   "cell_type": "code",
   "execution_count": null,
   "metadata": {},
   "outputs": [],
   "source": []
  }
 ],
 "metadata": {
  "kernelspec": {
   "display_name": "Python 3",
   "language": "python",
   "name": "python3"
  },
  "language_info": {
   "codemirror_mode": {
    "name": "ipython",
    "version": 3
   },
   "file_extension": ".py",
   "mimetype": "text/x-python",
   "name": "python",
   "nbconvert_exporter": "python",
   "pygments_lexer": "ipython3",
   "version": "3.7.6"
  }
 },
 "nbformat": 4,
 "nbformat_minor": 4
}
